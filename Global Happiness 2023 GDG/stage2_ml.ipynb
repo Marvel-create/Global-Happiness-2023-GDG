{
 "cells": [
  {
   "cell_type": "code",
   "execution_count": 198,
   "id": "0cb241d7-a152-4cb7-abc7-0a5b1e3b7d72",
   "metadata": {},
   "outputs": [],
   "source": [
    "import numpy as np\n",
    "import pandas as pd\n",
    "import matplotlib.pyplot as plt\n",
    "import seaborn as sns\n",
    "\n",
    "from sklearn.model_selection import train_test_split, KFold, cross_val_score\n",
    "from sklearn.linear_model import LinearRegression\n",
    "from sklearn.ensemble import RandomForestRegressor\n",
    "from sklearn.metrics import r2_score, mean_squared_error\n",
    "from catboost import CatBoostRegressor\n",
    "import joblib\n",
    "\n",
    "import warnings\n",
    "warnings.filterwarnings('ignore')\n"
   ]
  },
  {
   "cell_type": "code",
   "execution_count": 199,
   "id": "2b9eef1a-2908-4a6d-91ca-6ad316edb2fd",
   "metadata": {},
   "outputs": [
    {
     "name": "stdout",
     "output_type": "stream",
     "text": [
      "(137, 9)\n"
     ]
    },
    {
     "data": {
      "text/html": [
       "<div>\n",
       "<style scoped>\n",
       "    .dataframe tbody tr th:only-of-type {\n",
       "        vertical-align: middle;\n",
       "    }\n",
       "\n",
       "    .dataframe tbody tr th {\n",
       "        vertical-align: top;\n",
       "    }\n",
       "\n",
       "    .dataframe thead th {\n",
       "        text-align: right;\n",
       "    }\n",
       "</style>\n",
       "<table border=\"1\" class=\"dataframe\">\n",
       "  <thead>\n",
       "    <tr style=\"text-align: right;\">\n",
       "      <th></th>\n",
       "      <th>country</th>\n",
       "      <th>region</th>\n",
       "      <th>happiness_score</th>\n",
       "      <th>gdp_per_capita</th>\n",
       "      <th>social_support</th>\n",
       "      <th>healthy_life_expectancy</th>\n",
       "      <th>freedom_to_make_life_choices</th>\n",
       "      <th>generosity</th>\n",
       "      <th>perceptions_of_corruption</th>\n",
       "    </tr>\n",
       "  </thead>\n",
       "  <tbody>\n",
       "    <tr>\n",
       "      <th>0</th>\n",
       "      <td>Finland</td>\n",
       "      <td>Western Europe</td>\n",
       "      <td>7.804</td>\n",
       "      <td>1.888</td>\n",
       "      <td>1.585</td>\n",
       "      <td>0.535</td>\n",
       "      <td>0.772</td>\n",
       "      <td>0.126</td>\n",
       "      <td>0.535</td>\n",
       "    </tr>\n",
       "    <tr>\n",
       "      <th>1</th>\n",
       "      <td>Denmark</td>\n",
       "      <td>Western Europe</td>\n",
       "      <td>7.586</td>\n",
       "      <td>1.949</td>\n",
       "      <td>1.548</td>\n",
       "      <td>0.537</td>\n",
       "      <td>0.734</td>\n",
       "      <td>0.208</td>\n",
       "      <td>0.525</td>\n",
       "    </tr>\n",
       "    <tr>\n",
       "      <th>2</th>\n",
       "      <td>Iceland</td>\n",
       "      <td>Western Europe</td>\n",
       "      <td>7.530</td>\n",
       "      <td>1.926</td>\n",
       "      <td>1.620</td>\n",
       "      <td>0.559</td>\n",
       "      <td>0.738</td>\n",
       "      <td>0.250</td>\n",
       "      <td>0.187</td>\n",
       "    </tr>\n",
       "    <tr>\n",
       "      <th>3</th>\n",
       "      <td>Israel</td>\n",
       "      <td>Middle East and North Africa</td>\n",
       "      <td>7.473</td>\n",
       "      <td>1.833</td>\n",
       "      <td>1.521</td>\n",
       "      <td>0.577</td>\n",
       "      <td>0.569</td>\n",
       "      <td>0.124</td>\n",
       "      <td>0.158</td>\n",
       "    </tr>\n",
       "    <tr>\n",
       "      <th>4</th>\n",
       "      <td>Netherlands</td>\n",
       "      <td>Western Europe</td>\n",
       "      <td>7.403</td>\n",
       "      <td>1.942</td>\n",
       "      <td>1.488</td>\n",
       "      <td>0.545</td>\n",
       "      <td>0.672</td>\n",
       "      <td>0.251</td>\n",
       "      <td>0.394</td>\n",
       "    </tr>\n",
       "  </tbody>\n",
       "</table>\n",
       "</div>"
      ],
      "text/plain": [
       "       country                        region  happiness_score  gdp_per_capita  \\\n",
       "0      Finland                Western Europe            7.804           1.888   \n",
       "1      Denmark                Western Europe            7.586           1.949   \n",
       "2      Iceland                Western Europe            7.530           1.926   \n",
       "3       Israel  Middle East and North Africa            7.473           1.833   \n",
       "4  Netherlands                Western Europe            7.403           1.942   \n",
       "\n",
       "   social_support  healthy_life_expectancy  freedom_to_make_life_choices  \\\n",
       "0           1.585                    0.535                         0.772   \n",
       "1           1.548                    0.537                         0.734   \n",
       "2           1.620                    0.559                         0.738   \n",
       "3           1.521                    0.577                         0.569   \n",
       "4           1.488                    0.545                         0.672   \n",
       "\n",
       "   generosity  perceptions_of_corruption  \n",
       "0       0.126                      0.535  \n",
       "1       0.208                      0.525  \n",
       "2       0.250                      0.187  \n",
       "3       0.124                      0.158  \n",
       "4       0.251                      0.394  "
      ]
     },
     "execution_count": 199,
     "metadata": {},
     "output_type": "execute_result"
    }
   ],
   "source": [
    "df = pd.read_csv(\"cleaned_data.csv\")\n",
    "\n",
    "print(df.shape)\n",
    "df.head()\n"
   ]
  },
  {
   "cell_type": "markdown",
   "id": "cf24ba76-9c63-4b9a-b8d4-b8d00ccb66cb",
   "metadata": {},
   "source": [
    "Feature selection\n"
   ]
  },
  {
   "cell_type": "code",
   "execution_count": 200,
   "id": "37cef557-9aa4-4473-922c-3c2a177cf423",
   "metadata": {},
   "outputs": [],
   "source": [
    "y=df[[\"happiness_score\"]]\n",
    "x=df.drop([\"happiness_score\", \"country\"],axis=1)"
   ]
  },
  {
   "cell_type": "code",
   "execution_count": 201,
   "id": "98c64f04-f9cf-444d-a9de-dcd9af075205",
   "metadata": {},
   "outputs": [],
   "source": [
    "X_encoded = pd.get_dummies(x, columns=[\"region\"])"
   ]
  },
  {
   "cell_type": "code",
   "execution_count": 202,
   "id": "ae0de209-cb05-42a2-b8e4-0afefbead279",
   "metadata": {},
   "outputs": [],
   "source": [
    "x_train, x_test, y_train, y_test = train_test_split(\n",
    "    X_encoded, y, test_size=30, random_state=50\n",
    ")"
   ]
  },
  {
   "cell_type": "code",
   "execution_count": 203,
   "id": "f95cb4ff-e42f-4cf2-aff5-7ecca85de524",
   "metadata": {},
   "outputs": [
    {
     "data": {
      "text/plain": [
       "((107, 16), (30, 16), (107, 1), (30, 1))"
      ]
     },
     "execution_count": 203,
     "metadata": {},
     "output_type": "execute_result"
    }
   ],
   "source": [
    "x_train.shape,x_test.shape,y_train.shape,y_test.shape"
   ]
  },
  {
   "cell_type": "markdown",
   "id": "7b65bbaa-7a6a-4497-8c07-7957c90bb5df",
   "metadata": {},
   "source": [
    "## Linear Regression Model\n"
   ]
  },
  {
   "cell_type": "code",
   "execution_count": 204,
   "id": "2794f9ae-4b1c-463a-8b1d-024e9ca240a0",
   "metadata": {},
   "outputs": [
    {
     "data": {
      "text/plain": [
       "array([[ 0.82658004,  0.96807338, -0.05238589,  1.75634801,  0.84174997,\n",
       "         0.60470318,  0.08791283, -0.0142819 ,  0.04293731,  0.29436448,\n",
       "        -0.18092108,  0.46892198, -0.63732238, -0.34471094, -0.16615832,\n",
       "         0.44925801]])"
      ]
     },
     "execution_count": 204,
     "metadata": {},
     "output_type": "execute_result"
    }
   ],
   "source": [
    "linreg_model = LinearRegression()\n",
    "linreg_model.fit(x_train, y_train)\n",
    "linreg_model.coef_"
   ]
  },
  {
   "cell_type": "code",
   "execution_count": 205,
   "id": "1de555f7-b357-4e1e-94be-aeb49907859f",
   "metadata": {},
   "outputs": [
    {
     "data": {
      "text/html": [
       "<div>\n",
       "<style scoped>\n",
       "    .dataframe tbody tr th:only-of-type {\n",
       "        vertical-align: middle;\n",
       "    }\n",
       "\n",
       "    .dataframe tbody tr th {\n",
       "        vertical-align: top;\n",
       "    }\n",
       "\n",
       "    .dataframe thead th {\n",
       "        text-align: right;\n",
       "    }\n",
       "</style>\n",
       "<table border=\"1\" class=\"dataframe\">\n",
       "  <thead>\n",
       "    <tr style=\"text-align: right;\">\n",
       "      <th></th>\n",
       "      <th>0</th>\n",
       "      <th>1</th>\n",
       "      <th>2</th>\n",
       "      <th>3</th>\n",
       "      <th>4</th>\n",
       "      <th>5</th>\n",
       "      <th>6</th>\n",
       "    </tr>\n",
       "  </thead>\n",
       "  <tbody>\n",
       "    <tr>\n",
       "      <th>0</th>\n",
       "      <td>region</td>\n",
       "      <td>gdp_per_capita</td>\n",
       "      <td>social_support</td>\n",
       "      <td>healthy_life_expectancy</td>\n",
       "      <td>freedom_to_make_life_choices</td>\n",
       "      <td>generosity</td>\n",
       "      <td>perceptions_of_corruption</td>\n",
       "    </tr>\n",
       "    <tr>\n",
       "      <th>1</th>\n",
       "      <td>0.828506</td>\n",
       "      <td>1.326404</td>\n",
       "      <td>0.437679</td>\n",
       "      <td>1.822445</td>\n",
       "      <td>0.680321</td>\n",
       "      <td>0.841923</td>\n",
       "      <td>None</td>\n",
       "    </tr>\n",
       "  </tbody>\n",
       "</table>\n",
       "</div>"
      ],
      "text/plain": [
       "          0               1               2                        3  \\\n",
       "0    region  gdp_per_capita  social_support  healthy_life_expectancy   \n",
       "1  0.828506        1.326404        0.437679                 1.822445   \n",
       "\n",
       "                              4           5                          6  \n",
       "0  freedom_to_make_life_choices  generosity  perceptions_of_corruption  \n",
       "1                      0.680321    0.841923                       None  "
      ]
     },
     "execution_count": 205,
     "metadata": {},
     "output_type": "execute_result"
    }
   ],
   "source": [
    "arr = [0.82850578, 1.32640443, 0.43767883, 1.82244477, 0.68032134, 0.84192323]\n",
    "pd.DataFrame([x.columns,arr])"
   ]
  },
  {
   "cell_type": "code",
   "execution_count": 206,
   "id": "373ef87b-2244-4d15-9179-198801df33f3",
   "metadata": {},
   "outputs": [
    {
     "name": "stdout",
     "output_type": "stream",
     "text": [
      "Linear Regression (numeric features only):\n",
      "R² Score: 0.7964262286883588\n",
      "RMSE: 0.5244158988697367\n",
      "MSE: 0.286872468466798\n"
     ]
    }
   ],
   "source": [
    "\n",
    "linreg_preds = linreg_model.predict(x_test)\n",
    "#to evaluate the model\n",
    "linreg_r2 = r2_score(y_test, linreg_preds)\n",
    "linreg_rmse = mean_squared_error(y_test, linreg_preds, squared=False)\n",
    "linreg_mse=mean_squared_error(y_test,pred_test)\n",
    "\n",
    "print(\"Linear Regression (numeric features only):\")\n",
    "print(\"R² Score:\", linreg_r2)\n",
    "print(\"RMSE:\", linreg_rmse)\n",
    "print(\"MSE:\", linreg_mse)"
   ]
  },
  {
   "cell_type": "code",
   "execution_count": 207,
   "id": "0c75599c-0e12-4c37-b057-e4d26d87cbe2",
   "metadata": {},
   "outputs": [
    {
     "name": "stdout",
     "output_type": "stream",
     "text": [
      "Random Forest Regressor:\n",
      "R² Score: 0.7988715785649634\n",
      "RMSE: 0.5212567132037726\n",
      "MSE: 0.27170856106000013\n"
     ]
    }
   ],
   "source": [
    "rf_model = RandomForestRegressor(n_estimators=100, random_state=42)\n",
    "rf_model.fit(x_train, y_train)\n",
    "\n",
    "rf_preds = rf_model.predict(x_test)\n",
    "#to evaluate the model\n",
    "rf_r2 = r2_score(y_test, rf_preds)\n",
    "rf_rmse = mean_squared_error(y_test, rf_preds, squared=False)\n",
    "rf_mse = mean_squared_error(y_test, rf_preds)\n",
    "\n",
    "print(\"Random Forest Regressor:\")\n",
    "print(\"R² Score:\", rf_r2)\n",
    "print(\"RMSE:\", rf_rmse)\n",
    "print(\"MSE:\", rf_mse)"
   ]
  },
  {
   "cell_type": "code",
   "execution_count": 208,
   "id": "0130d95e-c245-4b9d-bdd9-114c6fd11cf3",
   "metadata": {},
   "outputs": [
    {
     "name": "stdout",
     "output_type": "stream",
     "text": [
      "               Model  R² Score      RMSE       MSE\n",
      "0  Linear Regression  0.796426  0.524416  0.286872\n",
      "1      Random Forest  0.798872  0.521257  0.271709\n"
     ]
    }
   ],
   "source": [
    "# Compare models in a table\n",
    "import pandas as pd\n",
    "\n",
    "results = pd.DataFrame({\n",
    "    \"Model\": [\"Linear Regression\", \"Random Forest\"],\n",
    "    \"R² Score\": [linreg_r2, rf_r2],\n",
    "    \"RMSE\": [linreg_rmse, rf_rmse],\n",
    "    \"MSE\": [linreg_mse, rf_mse]\n",
    "})\n",
    "\n",
    "print(results)\n"
   ]
  },
  {
   "cell_type": "code",
   "execution_count": 209,
   "id": "895541ae-8a7b-457b-b742-197e1f195912",
   "metadata": {},
   "outputs": [
    {
     "name": "stdout",
     "output_type": "stream",
     "text": [
      "Random Forest CV RMSE: 0.5686457462297405\n",
      "Linear Regression CV RMSE: 0.4965859066933881\n"
     ]
    }
   ],
   "source": [
    "rf_scores = cross_val_score(rf_model, x_train, y_train, cv=5,\n",
    "                            scoring=\"neg_root_mean_squared_error\")\n",
    "print(\"Random Forest CV RMSE:\", -rf_scores.mean())\n",
    "\n",
    "lin_scores = cross_val_score(linreg_model, x_train, y_train, cv=5,\n",
    "                             scoring=\"neg_root_mean_squared_error\")\n",
    "print(\"Linear Regression CV RMSE:\", -lin_scores.mean())\n"
   ]
  },
  {
   "cell_type": "code",
   "execution_count": 210,
   "id": "f19b2770-c3a5-476e-9996-b5b50c9281d0",
   "metadata": {},
   "outputs": [
    {
     "data": {
      "image/png": "[encoded data removed]",
      "text/plain": [
       "<Figure size 800x600 with 1 Axes>"
      ]
     },
     "metadata": {},
     "output_type": "display_data"
    }
   ],
   "source": [
    "# Compare Linear Regression vs random forest visually\n",
    "plt.figure(figsize=(8,6))\n",
    "plt.scatter(y_test, linreg_preds, label=\"Linear Regression\", alpha=0.7)\n",
    "plt.scatter(y_test, rf_model.predict(x_test), label=\"random forest\", alpha=0.7)\n",
    "plt.plot([y.min(), y.max()], [y.min(), y.max()], 'r--')\n",
    "plt.xlabel(\"Actual Happiness Score\")\n",
    "plt.ylabel(\"Predicted Happiness Score\")\n",
    "plt.title(\"Model Predictions Comparison\")\n",
    "plt.legend()\n",
    "plt.show()"
   ]
  },
  {
   "cell_type": "code",
   "execution_count": 197,
   "id": "9a6fdd9d-3310-45d8-8614-1888a3ceff87",
   "metadata": {},
   "outputs": [],
   "source": [
    "# Choose the better model (lower RMSE, higher R²)\n",
    "best_model = rf_model if rf_rmse < linreg_rmse else linreg_model\n",
    "\n",
    "\n",
    "\n",
    "with open(\"final_model.pkl\", \"wb\") as f:\n",
    "    pickle.dump(best_model, f)\n",
    "\n",
    "# Step 11: Save training columns for Streamlit input alignment\n",
    "training_columns = X_encoded.columns.tolist()\n",
    "with open(\"training_columns_2023.pkl\", \"wb\") as f:\n",
    "    pickle.dump(training_columns, f)"
   ]
  },
  {
   "cell_type": "code",
   "execution_count": null,
   "id": "1f23970a-012d-47b5-9633-5ff86f8b6c14",
   "metadata": {},
   "outputs": [],
   "source": []
  }
 ],
 "metadata": {
  "kernelspec": {
   "display_name": "Python 3 (ipykernel)",
   "language": "python",
   "name": "python3"
  },
  "language_info": {
   "codemirror_mode": {
    "name": "ipython",
    "version": 3
   },
   "file_extension": ".py",
   "mimetype": "text/x-python",
   "name": "python",
   "nbconvert_exporter": "python",
   "pygments_lexer": "ipython3",
   "version": "3.12.7"
  }
 },
 "nbformat": 4,
 "nbformat_minor": 5
}
